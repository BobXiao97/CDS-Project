{
 "cells": [
  {
   "cell_type": "markdown",
   "metadata": {},
   "source": [
    "# Train SVM model without genres as features"
   ]
  },
  {
   "cell_type": "code",
   "execution_count": 1,
   "metadata": {},
   "outputs": [],
   "source": [
    "import pandas as pd\n",
    "data = pd.read_csv('song_data_combined_genre.csv')\n",
    "data = data.drop(columns=['Track Name', 'Artist', 'Genre'])\n",
    "#data"
   ]
  },
  {
   "cell_type": "code",
   "execution_count": 2,
   "metadata": {},
   "outputs": [],
   "source": [
    "import pandas as pd\n",
    "from sklearn.model_selection import train_test_split\n",
    "X_train, X_test, y_train, y_test = train_test_split(data.drop('Label',1), \n",
    "                                                    data['Label'],\n",
    "                                                    test_size=0.2,\n",
    "                                                    random_state=0) "
   ]
  },
  {
   "cell_type": "code",
   "execution_count": 3,
   "metadata": {},
   "outputs": [],
   "source": [
    "import matplotlib.pyplot as plt\n",
    "\n",
    "from sklearn.metrics import classification_report, confusion_matrix\n",
    "from sklearn.metrics import roc_curve, roc_auc_score\n",
    "\n",
    "def evaluate_on_training_set(y_test, y_pred):\n",
    "  # Calculate AUC\n",
    "  print(\"AUC is: \", roc_auc_score(y_test, y_pred)) #todo print AUC score)\n",
    "  \n",
    "  # print out recall and precision\n",
    "  print(classification_report(y_test, y_pred))\n",
    "  \n",
    "  # print out confusion matrix\n",
    "  print(\"Confusion Matrix: \\n\", confusion_matrix(y_test, y_pred))\n",
    "\n",
    "  # # calculate points for ROC curve\n",
    "  fpr, tpr, thresholds = roc_curve(y_test, y_pred)\n",
    "  \n",
    "  # Plot ROC curve\n",
    "  plt.plot(fpr, tpr, label='ROC curve (area = %0.3f)' % roc_auc_score(y_test, y_pred))\n",
    "  plt.plot([0, 1], [0, 1], 'k--')  # random predictions curve\n",
    "  plt.xlim([0.0, 1.0])\n",
    "  plt.ylim([0.0, 1.0])\n",
    "  plt.xlabel('False Positive Rate or (1 - Specifity)')\n",
    "  plt.ylabel('True Positive Rate or (Sensitivity)')\n",
    "  plt.title('Receiver Operating Characteristic')"
   ]
  },
  {
   "cell_type": "code",
   "execution_count": 4,
   "metadata": {},
   "outputs": [
    {
     "name": "stderr",
     "output_type": "stream",
     "text": [
      "C:\\Users\\YT\\Anaconda3\\lib\\site-packages\\sklearn\\preprocessing\\data.py:323: DataConversionWarning: Data with input dtype int64, float64 were all converted to float64 by MinMaxScaler.\n",
      "  return self.partial_fit(X, y)\n"
     ]
    }
   ],
   "source": [
    "from sklearn.preprocessing import MinMaxScaler\n",
    "\n",
    "# define a new scaler: \n",
    "x_scaler = MinMaxScaler()\n",
    "\n",
    "# fit the normalization on the training set: \n",
    "x_scaler.fit(X_train) #todo\n",
    "\n",
    "# then create new and normalized training/test sets: \n",
    "X_train_norm = x_scaler.transform(X_train)\n",
    "X_test_norm = x_scaler.transform(X_test)"
   ]
  },
  {
   "cell_type": "code",
   "execution_count": 5,
   "metadata": {},
   "outputs": [
    {
     "data": {
      "text/plain": [
       "SVC(C=10, cache_size=200, class_weight=None, coef0=0.0,\n",
       "  decision_function_shape='ovr', degree=3, gamma='auto', kernel='rbf',\n",
       "  max_iter=-1, probability=False, random_state=None, shrinking=True,\n",
       "  tol=0.001, verbose=False)"
      ]
     },
     "execution_count": 5,
     "metadata": {},
     "output_type": "execute_result"
    }
   ],
   "source": [
    "from sklearn.svm import SVC\n",
    "model = SVC(C=10, gamma='auto', kernel='rbf')\n",
    "model.fit(X_train_norm, y_train)"
   ]
  },
  {
   "cell_type": "code",
   "execution_count": 6,
   "metadata": {},
   "outputs": [
    {
     "name": "stdout",
     "output_type": "stream",
     "text": [
      "AUC is:  0.8234967087706814\n",
      "              precision    recall  f1-score   support\n",
      "\n",
      "           0       0.88      0.75      0.81       616\n",
      "           1       0.78      0.89      0.83       584\n",
      "\n",
      "   micro avg       0.82      0.82      0.82      1200\n",
      "   macro avg       0.83      0.82      0.82      1200\n",
      "weighted avg       0.83      0.82      0.82      1200\n",
      "\n",
      "Confusion Matrix: \n",
      " [[465 151]\n",
      " [ 63 521]]\n"
     ]
    },
    {
     "data": {
      "image/png": "[encoded data removed]",
      "text/plain": [
       "<Figure size 432x288 with 1 Axes>"
      ]
     },
     "metadata": {
      "needs_background": "light"
     },
     "output_type": "display_data"
    }
   ],
   "source": [
    "model.fit(X_train_norm, y_train) # Training SVM\n",
    "\n",
    "y_pred = model.predict(X_test_norm) # Predicting labels for our test set using trained model\n",
    "evaluate_on_training_set(y_test, y_pred) #evaluate our model using newly defined function\n"
   ]
  },
  {
   "cell_type": "markdown",
   "metadata": {},
   "source": [
    "# Train SVM with the use of genres as features"
   ]
  },
  {
   "cell_type": "code",
   "execution_count": 7,
   "metadata": {},
   "outputs": [],
   "source": [
    "import pandas as pd\n",
    "data = pd.read_csv('song_data_combined_genre_label_final.csv')\n",
    "data = data.drop(columns=['Track Name', 'Artist', 'Genre'])\n",
    "#data"
   ]
  },
  {
   "cell_type": "code",
   "execution_count": 8,
   "metadata": {},
   "outputs": [],
   "source": [
    "import pandas as pd\n",
    "from sklearn.model_selection import train_test_split\n",
    "X_train, X_test, y_train, y_test = train_test_split(data.drop('Label',1), \n",
    "                                                    data['Label'],\n",
    "                                                    test_size=0.2,\n",
    "                                                    random_state=0) "
   ]
  },
  {
   "cell_type": "code",
   "execution_count": 9,
   "metadata": {},
   "outputs": [],
   "source": [
    "import matplotlib.pyplot as plt\n",
    "\n",
    "from sklearn.metrics import classification_report, confusion_matrix\n",
    "from sklearn.metrics import roc_curve, roc_auc_score\n",
    "\n",
    "def evaluate_on_training_set(y_test, y_pred):\n",
    "  # Calculate AUC\n",
    "  print(\"AUC is: \", roc_auc_score(y_test, y_pred)) #todo print AUC score)\n",
    "  \n",
    "  # print out recall and precision\n",
    "  print(classification_report(y_test, y_pred))\n",
    "  \n",
    "  # print out confusion matrix\n",
    "  print(\"Confusion Matrix: \\n\", confusion_matrix(y_test, y_pred))\n",
    "\n",
    "  # # calculate points for ROC curve\n",
    "  fpr, tpr, thresholds = roc_curve(y_test, y_pred)\n",
    "  \n",
    "  # Plot ROC curve\n",
    "  plt.plot(fpr, tpr, label='ROC curve (area = %0.3f)' % roc_auc_score(y_test, y_pred))\n",
    "  plt.plot([0, 1], [0, 1], 'k--')  # random predictions curve\n",
    "  plt.xlim([0.0, 1.0])\n",
    "  plt.ylim([0.0, 1.0])\n",
    "  plt.xlabel('False Positive Rate or (1 - Specifity)')\n",
    "  plt.ylabel('True Positive Rate or (Sensitivity)')\n",
    "  plt.title('Receiver Operating Characteristic')"
   ]
  },
  {
   "cell_type": "code",
   "execution_count": 10,
   "metadata": {},
   "outputs": [
    {
     "name": "stderr",
     "output_type": "stream",
     "text": [
      "C:\\Users\\YT\\Anaconda3\\lib\\site-packages\\sklearn\\preprocessing\\data.py:323: DataConversionWarning: Data with input dtype int64, float64 were all converted to float64 by MinMaxScaler.\n",
      "  return self.partial_fit(X, y)\n"
     ]
    }
   ],
   "source": [
    "from sklearn.preprocessing import MinMaxScaler\n",
    "\n",
    "# define a new scaler: \n",
    "x_scaler = MinMaxScaler()\n",
    "\n",
    "# fit the normalization on the training set: \n",
    "x_scaler.fit(X_train) #todo\n",
    "\n",
    "# then create new and normalized training/test sets: \n",
    "X_train_norm = x_scaler.transform(X_train)\n",
    "X_test_norm = x_scaler.transform(X_test)"
   ]
  },
  {
   "cell_type": "code",
   "execution_count": 11,
   "metadata": {},
   "outputs": [
    {
     "data": {
      "text/plain": [
       "SVC(C=10, cache_size=200, class_weight=None, coef0=0.0,\n",
       "  decision_function_shape='ovr', degree=3, gamma='auto', kernel='rbf',\n",
       "  max_iter=-1, probability=False, random_state=None, shrinking=True,\n",
       "  tol=0.001, verbose=False)"
      ]
     },
     "execution_count": 11,
     "metadata": {},
     "output_type": "execute_result"
    }
   ],
   "source": [
    "from sklearn.svm import SVC\n",
    "model = SVC(C=10, gamma='auto', kernel='rbf')\n",
    "model.fit(X_train_norm, y_train)"
   ]
  },
  {
   "cell_type": "code",
   "execution_count": 12,
   "metadata": {},
   "outputs": [
    {
     "name": "stdout",
     "output_type": "stream",
     "text": [
      "AUC is:  0.8726983632805551\n",
      "              precision    recall  f1-score   support\n",
      "\n",
      "           0       0.88      0.87      0.87       616\n",
      "           1       0.86      0.88      0.87       584\n",
      "\n",
      "   micro avg       0.87      0.87      0.87      1200\n",
      "   macro avg       0.87      0.87      0.87      1200\n",
      "weighted avg       0.87      0.87      0.87      1200\n",
      "\n",
      "Confusion Matrix: \n",
      " [[533  83]\n",
      " [ 70 514]]\n"
     ]
    },
    {
     "data": {
      "image/png": "[encoded data removed]",
      "text/plain": [
       "<Figure size 432x288 with 1 Axes>"
      ]
     },
     "metadata": {
      "needs_background": "light"
     },
     "output_type": "display_data"
    }
   ],
   "source": [
    "model.fit(X_train_norm, y_train) # Training SVM\n",
    "\n",
    "y_pred = model.predict(X_test_norm) # Predicting labels for our test set using trained model\n",
    "evaluate_on_training_set(y_test, y_pred) #evaluate our model using newly defined function\n"
   ]
  },
  {
   "cell_type": "markdown",
   "metadata": {},
   "source": [
    "## Save the better model (trained with genre as features)"
   ]
  },
  {
   "cell_type": "code",
   "execution_count": 15,
   "metadata": {},
   "outputs": [
    {
     "data": {
      "text/plain": [
       "['svm.joblib']"
      ]
     },
     "execution_count": 15,
     "metadata": {},
     "output_type": "execute_result"
    }
   ],
   "source": [
    "# save the better model\n",
    "import joblib \n",
    "joblib.dump(model, \"svm.joblib\")"
   ]
  },
  {
   "cell_type": "markdown",
   "metadata": {},
   "source": [
    "## Load the model and perform a simple prediction on the test data"
   ]
  },
  {
   "cell_type": "code",
   "execution_count": 16,
   "metadata": {},
   "outputs": [
    {
     "data": {
      "text/plain": [
       "array([1, 1, 0, ..., 0, 1, 0], dtype=int64)"
      ]
     },
     "execution_count": 16,
     "metadata": {},
     "output_type": "execute_result"
    }
   ],
   "source": [
    "loaded_svm = joblib.load(\"svm.joblib\")\n",
    "loaded_svm.predict(X_test_norm)"
   ]
  },
  {
   "cell_type": "code",
   "execution_count": null,
   "metadata": {},
   "outputs": [],
   "source": []
  }
 ],
 "metadata": {
  "kernelspec": {
   "display_name": "Python 3",
   "language": "python",
   "name": "python3"
  },
  "language_info": {
   "codemirror_mode": {
    "name": "ipython",
    "version": 3
   },
   "file_extension": ".py",
   "mimetype": "text/x-python",
   "name": "python",
   "nbconvert_exporter": "python",
   "pygments_lexer": "ipython3",
   "version": "3.7.1"
  }
 },
 "nbformat": 4,
 "nbformat_minor": 2
}
