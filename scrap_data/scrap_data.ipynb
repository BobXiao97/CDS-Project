{
 "cells": [
  {
   "cell_type": "markdown",
   "metadata": {},
   "source": [
    "# This file scraps spotify data from spotify top 200 charts daily \n",
    "## The range of date to scrap the data from is the input to the main function"
   ]
  },
  {
   "cell_type": "code",
   "execution_count": 1,
   "metadata": {},
   "outputs": [],
   "source": [
    "import datetime\n",
    "import os\n",
    "from os import system\n",
    "from datetime import timedelta, date\n",
    "import pandas as pd\n"
   ]
  },
  {
   "cell_type": "code",
   "execution_count": 2,
   "metadata": {},
   "outputs": [],
   "source": [
    "def daterange(start_date, end_date):\n",
    "    for n in range(int ((end_date - start_date).days)):\n",
    "        yield start_date + timedelta(n)"
   ]
  },
  {
   "cell_type": "code",
   "execution_count": 3,
   "metadata": {},
   "outputs": [],
   "source": [
    "def download_raw_data(start_date, end_date):\n",
    "    print(\"Getting CSVs\")\n",
    "    for single_date in daterange(start_date, end_date):\n",
    "        #print(single_date.strftime(\"Processing %Y-%m-%d\"))\n",
    "        \n",
    "        file_name = single_date.strftime(\"%Y-%m-%d.csv\")\n",
    "        #date_scrape=pd.read_csv(\"%Y-%m-%d.csv\",skiprows=1)\n",
    "        spotify_url = single_date.strftime(\"https://spotifycharts.com/regional/global/daily/%Y-%m-%d/download\")\n",
    "        #download file using wget to the current directory\n",
    "        #system('wget -c \\\"{}\\\"'.format(file_url) + r\" --output-document={}\".format(os.getcwd()) + \"/\" + the_date_filename)\n",
    "        #print('wget -c \\\"{}\\\" --output-document={}/{}'.format(file_url, os.getcwd(),the_date_filename))\n",
    "        system('wget -c \\\"{}\\\" --output-document={}/{}'.format(spotify_url, os.getcwd(),file_name))\n",
    "        print(f\"downloading {file_name}...\")"
   ]
  },
  {
   "cell_type": "code",
   "execution_count": 4,
   "metadata": {},
   "outputs": [],
   "source": [
    "def clean_raw_data(start_date, end_date):\n",
    "    for single_date in daterange(start_date, end_date):\n",
    "        file_name = \"%s.csv\" % single_date \n",
    "        print(file_name)\n",
    "        data = pd.read_csv(file_name,skiprows=1)\n",
    "        #print(data.head())\n",
    "        urls = data['URL']\n",
    "        list1 = []\n",
    "        for url in urls:\n",
    "            trackID = url.split(\"/\")[-1]\n",
    "            list1.append(trackID)\n",
    "            #print(trackID)\n",
    "        data[\"trackID\"] = list1\n",
    "        data.to_csv(file_name, index=False)\n",
    "        print(data.head())"
   ]
  },
  {
   "cell_type": "code",
   "execution_count": 5,
   "metadata": {},
   "outputs": [],
   "source": [
    "import spotipy\n",
    "\n",
    "client_id = '90d4bf0d722b4e6892fedd3eb7dea15d'\n",
    "client_secret = 'b85dd00354944ae4a37e1b1aa7871f5d'\n",
    "\n",
    "from spotipy.oauth2 import SpotifyClientCredentials\n",
    "\n",
    "client_credentials_manager = SpotifyClientCredentials(client_id, client_secret)\n",
    "sp = spotipy.Spotify(client_credentials_manager=client_credentials_manager)\n"
   ]
  },
  {
   "cell_type": "code",
   "execution_count": 6,
   "metadata": {},
   "outputs": [],
   "source": [
    "import csv\n",
    "import ast\n",
    "csv_columns = ['danceability','energy','key','loudness','mode','speechiness','acousticness','instrumentalness','liveness','valence','tempo','type','id','uri','track_href','analysis_url','duration_ms','time_signature']\n",
    "csv_file = \"5-updated-regional-global-daily-latest.csv\"\n",
    "\n",
    "def add_audio_features(start_date, end_date):\n",
    "    for single_date in daterange(start_date, end_date):\n",
    "        count = 0\n",
    "        file_name = single_date.strftime(\"%Y-%m-%d.csv\")\n",
    "        data = pd.read_csv(file_name)\n",
    "        trackIDs = data['trackID']\n",
    "        temp_file = \"temp_\" + file_name\n",
    "        output_file = \"feature_\" + file_name\n",
    "        try:\n",
    "            with open(temp_file, 'a') as csvfile:\n",
    "                writer = csv.DictWriter(csvfile, fieldnames=csv_columns)\n",
    "                writer.writeheader()\n",
    "\n",
    "                for trackID in trackIDs:\n",
    "                    track_features = sp.audio_features(trackID)[0]\n",
    "                    writer.writerow(track_features)\n",
    "                    count += 1\n",
    "                    #print (count, track_features)\n",
    "                    print(count)\n",
    "        except IOError:\n",
    "            print(\"I/O error\")\n",
    "        reader = csv.reader(open(file_name, 'r'))\n",
    "        reader1 = csv.reader(open(temp_file, 'r'))\n",
    "        writer = csv.writer(open(output_file, 'w'))\n",
    "        for row in reader:\n",
    "            row1 = next(reader1)\n",
    "            writer.writerow(row + row1)\n",
    "        os.remove(temp_file)"
   ]
  },
  {
   "cell_type": "code",
   "execution_count": 7,
   "metadata": {},
   "outputs": [],
   "source": [
    "def main(start_date, end_date):\n",
    "    download_raw_data(start_date, end_date)\n",
    "    clean_raw_data(start_date, end_date)\n",
    "    add_audio_features(start_date, end_date)"
   ]
  },
  {
   "cell_type": "markdown",
   "metadata": {},
   "source": [
    "## Change the start_date and end_date to set the range of date of the chart to scrap from"
   ]
  },
  {
   "cell_type": "code",
   "execution_count": null,
   "metadata": {},
   "outputs": [
    {
     "name": "stdout",
     "output_type": "stream",
     "text": [
      "Getting CSVs\n"
     ]
    }
   ],
   "source": [
    "start_date = date(2020, 10, 1)\n",
    "end_date = date(2020, 10, 10)\n",
    "main(start_date, end_date)"
   ]
  },
  {
   "cell_type": "code",
   "execution_count": null,
   "metadata": {},
   "outputs": [],
   "source": []
  }
 ],
 "metadata": {
  "kernelspec": {
   "display_name": "Python 3",
   "language": "python",
   "name": "python3"
  },
  "language_info": {
   "codemirror_mode": {
    "name": "ipython",
    "version": 3
   },
   "file_extension": ".py",
   "mimetype": "text/x-python",
   "name": "python",
   "nbconvert_exporter": "python",
   "pygments_lexer": "ipython3",
   "version": "3.7.1"
  }
 },
 "nbformat": 4,
 "nbformat_minor": 2
}
