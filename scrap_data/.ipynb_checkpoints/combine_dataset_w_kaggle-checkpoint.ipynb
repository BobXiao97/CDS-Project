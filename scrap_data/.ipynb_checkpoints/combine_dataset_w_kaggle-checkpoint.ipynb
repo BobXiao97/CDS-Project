{
 "cells": [
  {
   "cell_type": "markdown",
   "metadata": {},
   "source": [
    "# Combining our top 3000 highest stream songs with the 3000 non-hit songs from kaggle dataset"
   ]
  },
  {
   "cell_type": "code",
   "execution_count": null,
   "metadata": {},
   "outputs": [],
   "source": [
    "## combining dataset\n",
    "import pandas as pd\n",
    "import numpy as np\n",
    "\n",
    "\n",
    "def label_1(label):\n",
    "    return 1\n",
    "\n",
    "def label_0(label):\n",
    "    return 0\n",
    "\n",
    "data1 = pd.read_csv('labeled_spotify_data_genre_sort_streams.csv')\n",
    "data1 = data1.head(3000)\n",
    "\n",
    "data2 =pd.read_csv('dataset-of-10s.csv')\n",
    "data2 = data2.head(3200)\n",
    "data2 = data2.drop_duplicates(subset=['track', 'artist'])\n",
    "data2 = data2.head(3000)\n",
    "data2\n",
    "\n",
    "\n",
    "\n",
    "data1['Label'] = data1['Label'].apply(lambda label: label_1(label))\n",
    "data1=data1.drop(columns=['Streams', 'analysis_url', 'Genre'])\n",
    "data2 = data2.drop(columns=['uri', 'chorus_hit', 'sections', 'target'])\n",
    "data2.rename(columns={'track': 'Track Name','artist':'Artist' }, inplace=True)\n",
    "temp = np.ones(len(data2))\n",
    "data2['Label'] = temp\n",
    "data2['Label'] = data2['Label'].apply(lambda label: label_0(label))\n",
    "data = pd.concat([data1, data2])\n",
    "data\n",
    "data = data.reset_index(drop=True)\n",
    "data.to_csv('song_data_combine.csv', index=False)\n"
   ]
  }
 ],
 "metadata": {
  "kernelspec": {
   "display_name": "Python 3",
   "language": "python",
   "name": "python3"
  },
  "language_info": {
   "codemirror_mode": {
    "name": "ipython",
    "version": 3
   },
   "file_extension": ".py",
   "mimetype": "text/x-python",
   "name": "python",
   "nbconvert_exporter": "python",
   "pygments_lexer": "ipython3",
   "version": "3.7.1"
  }
 },
 "nbformat": 4,
 "nbformat_minor": 2
}
